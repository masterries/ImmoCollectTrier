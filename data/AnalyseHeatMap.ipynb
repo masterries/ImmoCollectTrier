{
 "cells": [
  {
   "cell_type": "code",
   "execution_count": 27,
   "metadata": {},
   "outputs": [
    {
     "name": "stdout",
     "output_type": "stream",
     "text": [
      "Map with clickable links saved as 'map_markers_price_clipped_with_links.html'\n"
     ]
    }
   ],
   "source": [
    "import pandas as pd\n",
    "import folium\n",
    "import branca.colormap as cm\n",
    "\n",
    "# --------------------------------------------------------------------\n",
    "# 1) Read your CSV\n",
    "# --------------------------------------------------------------------\n",
    "df = pd.read_csv(\"miete_trier50km_detailed2.csv\")\n",
    "\n",
    "# Drop rows without necessary columns\n",
    "df = df.dropna(subset=[\"Latitude\", \"Longitude\", \"Preis_pro_qm\", \"Link\"])\n",
    "\n",
    "# --------------------------------------------------------------------\n",
    "# 2) Remove or clip extreme outliers in 'Preis_pro_qm'\n",
    "#    Example: remove properties above 95th percentile\n",
    "# --------------------------------------------------------------------\n",
    "upper_bound = df[\"Preis_pro_qm\"].quantile(0.95)\n",
    "df = df[df[\"Preis_pro_qm\"] <= upper_bound]\n",
    "\n",
    "# --------------------------------------------------------------------\n",
    "# 3) Compute new min/max after clipping\n",
    "# --------------------------------------------------------------------\n",
    "min_price_qm = df[\"Preis_pro_qm\"].min()\n",
    "max_price_qm = df[\"Preis_pro_qm\"].max()\n",
    "\n",
    "# --------------------------------------------------------------------\n",
    "# 4) Create a color scale\n",
    "# --------------------------------------------------------------------\n",
    "colormap = cm.LinearColormap(\n",
    "    colors=[\"green\", \"yellow\", \"red\"],\n",
    "    vmin=min_price_qm,\n",
    "    vmax=max_price_qm,\n",
    "    caption=\"Price per m² (Clipped)\"\n",
    ")\n",
    "\n",
    "# --------------------------------------------------------------------\n",
    "# 5) Create Folium map\n",
    "# --------------------------------------------------------------------\n",
    "m = folium.Map(location=[49.75, 6.65], zoom_start=12)\n",
    "\n",
    "# --------------------------------------------------------------------\n",
    "# 6) Add Circle Markers with popup info\n",
    "# --------------------------------------------------------------------\n",
    "for _, row in df.iterrows():\n",
    "    lat = row[\"Latitude\"]\n",
    "    lon = row[\"Longitude\"]\n",
    "    price_qm = row[\"Preis_pro_qm\"]\n",
    "    link = row[\"Link\"]\n",
    "    \n",
    "    # Map Preis_pro_qm to a color\n",
    "    color = colormap(price_qm)\n",
    "\n",
    "    # HTML popup with link\n",
    "    popup_html = (\n",
    "        f\"<b>Price/m²:</b> {price_qm:.2f} €<br>\"\n",
    "        f\"<b>Total Price:</b> {row.get('Preis_cleaned', 'n/a')} €<br>\"\n",
    "        f\"<b>Zimmer:</b> {row.get('Zimmer', 'n/a')}<br>\"\n",
    "        f\"<b>Link:</b> <a href='{link}' target='_blank'>Open Listing</a>\"\n",
    "    )\n",
    "\n",
    "    folium.CircleMarker(\n",
    "        location=[lat, lon],\n",
    "        radius=5,\n",
    "        weight=1,\n",
    "        fill=True,\n",
    "        fill_opacity=0.8,\n",
    "        color=color,\n",
    "        fill_color=color,\n",
    "        popup=popup_html\n",
    "    ).add_to(m)\n",
    "\n",
    "# --------------------------------------------------------------------\n",
    "# 7) Add color legend and save\n",
    "# --------------------------------------------------------------------\n",
    "colormap.add_to(m)\n",
    "m.save(\"map_markers_price_clipped_with_links.html\")\n",
    "print(\"Map with clickable links saved as 'map_markers_price_clipped_with_links.html'\")\n"
   ]
  }
 ],
 "metadata": {
  "kernelspec": {
   "display_name": "Python 3",
   "language": "python",
   "name": "python3"
  },
  "language_info": {
   "codemirror_mode": {
    "name": "ipython",
    "version": 3
   },
   "file_extension": ".py",
   "mimetype": "text/x-python",
   "name": "python",
   "nbconvert_exporter": "python",
   "pygments_lexer": "ipython3",
   "version": "3.12.1"
  }
 },
 "nbformat": 4,
 "nbformat_minor": 2
}
